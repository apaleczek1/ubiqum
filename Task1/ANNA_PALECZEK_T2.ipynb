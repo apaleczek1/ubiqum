{
 "cells": [
  {
   "cell_type": "markdown",
   "id": "dd009412",
   "metadata": {},
   "source": [
    "# 0. The main purpose"
   ]
  },
  {
   "cell_type": "markdown",
   "id": "0ec2a4db",
   "metadata": {},
   "source": [
    "The main purpose of these analyzes is to understand and discover the behavior of customers in online and in-store shopping from different regions. "
   ]
  },
  {
   "cell_type": "markdown",
   "id": "097afc38",
   "metadata": {},
   "source": [
    "# 1. Importing necessary modules"
   ]
  },
  {
   "cell_type": "code",
   "execution_count": 50,
   "id": "98bed0cf",
   "metadata": {},
   "outputs": [],
   "source": [
    "import pandas as pd\n",
    "import matplotlib.pyplot as plt\n",
    "import numpy as np\n",
    "%matplotlib inline\n",
    "\n",
    "\n",
    "#Machine learning packages\n",
    "from sklearn.tree import DecisionTreeClassifier\n",
    "from sklearn.model_selection import train_test_split\n",
    "from sklearn.metrics import accuracy_score"
   ]
  },
  {
   "cell_type": "markdown",
   "id": "50f89c88",
   "metadata": {},
   "source": [
    "# 2. Reading data"
   ]
  },
  {
   "cell_type": "code",
   "execution_count": 2,
   "id": "9f978f54",
   "metadata": {},
   "outputs": [],
   "source": [
    "data = pd.read_csv('Demographic_Data.csv')"
   ]
  },
  {
   "cell_type": "markdown",
   "id": "2e80d12f",
   "metadata": {},
   "source": [
    "# 3. Exploring data"
   ]
  },
  {
   "cell_type": "markdown",
   "id": "6482ed96",
   "metadata": {},
   "source": [
    "Displaying first five rows of data"
   ]
  },
  {
   "cell_type": "code",
   "execution_count": 3,
   "id": "571ff762",
   "metadata": {},
   "outputs": [
    {
     "data": {
      "text/html": [
       "<div>\n",
       "<style scoped>\n",
       "    .dataframe tbody tr th:only-of-type {\n",
       "        vertical-align: middle;\n",
       "    }\n",
       "\n",
       "    .dataframe tbody tr th {\n",
       "        vertical-align: top;\n",
       "    }\n",
       "\n",
       "    .dataframe thead th {\n",
       "        text-align: right;\n",
       "    }\n",
       "</style>\n",
       "<table border=\"1\" class=\"dataframe\">\n",
       "  <thead>\n",
       "    <tr style=\"text-align: right;\">\n",
       "      <th></th>\n",
       "      <th>in-store</th>\n",
       "      <th>age</th>\n",
       "      <th>items</th>\n",
       "      <th>amount</th>\n",
       "      <th>region</th>\n",
       "    </tr>\n",
       "  </thead>\n",
       "  <tbody>\n",
       "    <tr>\n",
       "      <th>0</th>\n",
       "      <td>0</td>\n",
       "      <td>37</td>\n",
       "      <td>4</td>\n",
       "      <td>281.03</td>\n",
       "      <td>2</td>\n",
       "    </tr>\n",
       "    <tr>\n",
       "      <th>1</th>\n",
       "      <td>0</td>\n",
       "      <td>35</td>\n",
       "      <td>2</td>\n",
       "      <td>219.51</td>\n",
       "      <td>2</td>\n",
       "    </tr>\n",
       "    <tr>\n",
       "      <th>2</th>\n",
       "      <td>1</td>\n",
       "      <td>45</td>\n",
       "      <td>3</td>\n",
       "      <td>1525.70</td>\n",
       "      <td>4</td>\n",
       "    </tr>\n",
       "    <tr>\n",
       "      <th>3</th>\n",
       "      <td>1</td>\n",
       "      <td>46</td>\n",
       "      <td>3</td>\n",
       "      <td>715.25</td>\n",
       "      <td>3</td>\n",
       "    </tr>\n",
       "    <tr>\n",
       "      <th>4</th>\n",
       "      <td>1</td>\n",
       "      <td>33</td>\n",
       "      <td>4</td>\n",
       "      <td>1937.50</td>\n",
       "      <td>1</td>\n",
       "    </tr>\n",
       "  </tbody>\n",
       "</table>\n",
       "</div>"
      ],
      "text/plain": [
       "   in-store  age  items   amount  region\n",
       "0         0   37      4   281.03       2\n",
       "1         0   35      2   219.51       2\n",
       "2         1   45      3  1525.70       4\n",
       "3         1   46      3   715.25       3\n",
       "4         1   33      4  1937.50       1"
      ]
     },
     "execution_count": 3,
     "metadata": {},
     "output_type": "execute_result"
    }
   ],
   "source": [
    "data.head()"
   ]
  },
  {
   "cell_type": "markdown",
   "id": "5e4a411d",
   "metadata": {},
   "source": [
    "Displaying statistical values of the dataset"
   ]
  },
  {
   "cell_type": "code",
   "execution_count": 4,
   "id": "6f7f73d1",
   "metadata": {},
   "outputs": [
    {
     "data": {
      "text/html": [
       "<div>\n",
       "<style scoped>\n",
       "    .dataframe tbody tr th:only-of-type {\n",
       "        vertical-align: middle;\n",
       "    }\n",
       "\n",
       "    .dataframe tbody tr th {\n",
       "        vertical-align: top;\n",
       "    }\n",
       "\n",
       "    .dataframe thead th {\n",
       "        text-align: right;\n",
       "    }\n",
       "</style>\n",
       "<table border=\"1\" class=\"dataframe\">\n",
       "  <thead>\n",
       "    <tr style=\"text-align: right;\">\n",
       "      <th></th>\n",
       "      <th>in-store</th>\n",
       "      <th>age</th>\n",
       "      <th>items</th>\n",
       "      <th>amount</th>\n",
       "      <th>region</th>\n",
       "    </tr>\n",
       "  </thead>\n",
       "  <tbody>\n",
       "    <tr>\n",
       "      <th>count</th>\n",
       "      <td>80000.000000</td>\n",
       "      <td>80000.000000</td>\n",
       "      <td>80000.000000</td>\n",
       "      <td>80000.000000</td>\n",
       "      <td>80000.000000</td>\n",
       "    </tr>\n",
       "    <tr>\n",
       "      <th>mean</th>\n",
       "      <td>0.500000</td>\n",
       "      <td>45.757925</td>\n",
       "      <td>4.504975</td>\n",
       "      <td>835.919670</td>\n",
       "      <td>2.675000</td>\n",
       "    </tr>\n",
       "    <tr>\n",
       "      <th>std</th>\n",
       "      <td>0.500003</td>\n",
       "      <td>15.715679</td>\n",
       "      <td>2.061238</td>\n",
       "      <td>721.273736</td>\n",
       "      <td>1.126672</td>\n",
       "    </tr>\n",
       "    <tr>\n",
       "      <th>min</th>\n",
       "      <td>0.000000</td>\n",
       "      <td>18.000000</td>\n",
       "      <td>1.000000</td>\n",
       "      <td>5.004700</td>\n",
       "      <td>1.000000</td>\n",
       "    </tr>\n",
       "    <tr>\n",
       "      <th>25%</th>\n",
       "      <td>0.000000</td>\n",
       "      <td>33.000000</td>\n",
       "      <td>3.000000</td>\n",
       "      <td>285.140000</td>\n",
       "      <td>2.000000</td>\n",
       "    </tr>\n",
       "    <tr>\n",
       "      <th>50%</th>\n",
       "      <td>0.500000</td>\n",
       "      <td>45.000000</td>\n",
       "      <td>4.000000</td>\n",
       "      <td>582.315000</td>\n",
       "      <td>3.000000</td>\n",
       "    </tr>\n",
       "    <tr>\n",
       "      <th>75%</th>\n",
       "      <td>1.000000</td>\n",
       "      <td>56.000000</td>\n",
       "      <td>6.000000</td>\n",
       "      <td>1233.700000</td>\n",
       "      <td>4.000000</td>\n",
       "    </tr>\n",
       "    <tr>\n",
       "      <th>max</th>\n",
       "      <td>1.000000</td>\n",
       "      <td>85.000000</td>\n",
       "      <td>8.000000</td>\n",
       "      <td>3000.000000</td>\n",
       "      <td>4.000000</td>\n",
       "    </tr>\n",
       "  </tbody>\n",
       "</table>\n",
       "</div>"
      ],
      "text/plain": [
       "           in-store           age         items        amount        region\n",
       "count  80000.000000  80000.000000  80000.000000  80000.000000  80000.000000\n",
       "mean       0.500000     45.757925      4.504975    835.919670      2.675000\n",
       "std        0.500003     15.715679      2.061238    721.273736      1.126672\n",
       "min        0.000000     18.000000      1.000000      5.004700      1.000000\n",
       "25%        0.000000     33.000000      3.000000    285.140000      2.000000\n",
       "50%        0.500000     45.000000      4.000000    582.315000      3.000000\n",
       "75%        1.000000     56.000000      6.000000   1233.700000      4.000000\n",
       "max        1.000000     85.000000      8.000000   3000.000000      4.000000"
      ]
     },
     "execution_count": 4,
     "metadata": {},
     "output_type": "execute_result"
    }
   ],
   "source": [
    "data.describe()"
   ]
  },
  {
   "cell_type": "markdown",
   "id": "1ae97e1d",
   "metadata": {},
   "source": [
    "### The dataset contains 80,000 records and five columns:\n",
    "### a) in-store - the bool value determines whether the purchase was made online or in-store \n",
    "### b) age - the age of the client (min 18 max 85)\n",
    "### c) items - number of items purchased (min 1 max 8)\n",
    "### d) amout - amount paid (min 5.0047 max 3000) \n",
    "### e) region - a categorical, nominal variable specifies one of 4 regions (North, South, East, West) "
   ]
  },
  {
   "cell_type": "code",
   "execution_count": 5,
   "id": "40268427",
   "metadata": {},
   "outputs": [
    {
     "name": "stdout",
     "output_type": "stream",
     "text": [
      "<class 'pandas.core.frame.DataFrame'>\n",
      "RangeIndex: 80000 entries, 0 to 79999\n",
      "Data columns (total 5 columns):\n",
      " #   Column    Non-Null Count  Dtype  \n",
      "---  ------    --------------  -----  \n",
      " 0   in-store  80000 non-null  int64  \n",
      " 1   age       80000 non-null  int64  \n",
      " 2   items     80000 non-null  int64  \n",
      " 3   amount    80000 non-null  float64\n",
      " 4   region    80000 non-null  int64  \n",
      "dtypes: float64(1), int64(4)\n",
      "memory usage: 3.1 MB\n"
     ]
    }
   ],
   "source": [
    "data.info()"
   ]
  },
  {
   "cell_type": "code",
   "execution_count": 6,
   "id": "42714ae9",
   "metadata": {},
   "outputs": [
    {
     "data": {
      "text/html": [
       "<div>\n",
       "<style scoped>\n",
       "    .dataframe tbody tr th:only-of-type {\n",
       "        vertical-align: middle;\n",
       "    }\n",
       "\n",
       "    .dataframe tbody tr th {\n",
       "        vertical-align: top;\n",
       "    }\n",
       "\n",
       "    .dataframe thead th {\n",
       "        text-align: right;\n",
       "    }\n",
       "</style>\n",
       "<table border=\"1\" class=\"dataframe\">\n",
       "  <thead>\n",
       "    <tr style=\"text-align: right;\">\n",
       "      <th></th>\n",
       "      <th>in-store</th>\n",
       "      <th>age</th>\n",
       "      <th>items</th>\n",
       "      <th>amount</th>\n",
       "      <th>region</th>\n",
       "    </tr>\n",
       "  </thead>\n",
       "  <tbody>\n",
       "    <tr>\n",
       "      <th>17858</th>\n",
       "      <td>0</td>\n",
       "      <td>76</td>\n",
       "      <td>6</td>\n",
       "      <td>283.61</td>\n",
       "      <td>2</td>\n",
       "    </tr>\n",
       "    <tr>\n",
       "      <th>26112</th>\n",
       "      <td>0</td>\n",
       "      <td>67</td>\n",
       "      <td>4</td>\n",
       "      <td>320.41</td>\n",
       "      <td>2</td>\n",
       "    </tr>\n",
       "    <tr>\n",
       "      <th>29343</th>\n",
       "      <td>1</td>\n",
       "      <td>23</td>\n",
       "      <td>2</td>\n",
       "      <td>1019.50</td>\n",
       "      <td>4</td>\n",
       "    </tr>\n",
       "    <tr>\n",
       "      <th>33834</th>\n",
       "      <td>1</td>\n",
       "      <td>38</td>\n",
       "      <td>3</td>\n",
       "      <td>1993.80</td>\n",
       "      <td>1</td>\n",
       "    </tr>\n",
       "    <tr>\n",
       "      <th>34214</th>\n",
       "      <td>1</td>\n",
       "      <td>31</td>\n",
       "      <td>5</td>\n",
       "      <td>1488.10</td>\n",
       "      <td>4</td>\n",
       "    </tr>\n",
       "    <tr>\n",
       "      <th>34706</th>\n",
       "      <td>0</td>\n",
       "      <td>39</td>\n",
       "      <td>5</td>\n",
       "      <td>1268.00</td>\n",
       "      <td>4</td>\n",
       "    </tr>\n",
       "    <tr>\n",
       "      <th>35971</th>\n",
       "      <td>0</td>\n",
       "      <td>38</td>\n",
       "      <td>7</td>\n",
       "      <td>391.51</td>\n",
       "      <td>2</td>\n",
       "    </tr>\n",
       "    <tr>\n",
       "      <th>43958</th>\n",
       "      <td>1</td>\n",
       "      <td>22</td>\n",
       "      <td>1</td>\n",
       "      <td>1303.20</td>\n",
       "      <td>4</td>\n",
       "    </tr>\n",
       "    <tr>\n",
       "      <th>44308</th>\n",
       "      <td>1</td>\n",
       "      <td>26</td>\n",
       "      <td>5</td>\n",
       "      <td>1495.70</td>\n",
       "      <td>4</td>\n",
       "    </tr>\n",
       "    <tr>\n",
       "      <th>45164</th>\n",
       "      <td>0</td>\n",
       "      <td>79</td>\n",
       "      <td>6</td>\n",
       "      <td>342.28</td>\n",
       "      <td>2</td>\n",
       "    </tr>\n",
       "    <tr>\n",
       "      <th>47414</th>\n",
       "      <td>0</td>\n",
       "      <td>27</td>\n",
       "      <td>6</td>\n",
       "      <td>1555.10</td>\n",
       "      <td>4</td>\n",
       "    </tr>\n",
       "    <tr>\n",
       "      <th>51600</th>\n",
       "      <td>0</td>\n",
       "      <td>56</td>\n",
       "      <td>2</td>\n",
       "      <td>1941.70</td>\n",
       "      <td>4</td>\n",
       "    </tr>\n",
       "    <tr>\n",
       "      <th>52013</th>\n",
       "      <td>1</td>\n",
       "      <td>50</td>\n",
       "      <td>5</td>\n",
       "      <td>1889.40</td>\n",
       "      <td>1</td>\n",
       "    </tr>\n",
       "    <tr>\n",
       "      <th>53652</th>\n",
       "      <td>0</td>\n",
       "      <td>29</td>\n",
       "      <td>2</td>\n",
       "      <td>144.43</td>\n",
       "      <td>2</td>\n",
       "    </tr>\n",
       "    <tr>\n",
       "      <th>58454</th>\n",
       "      <td>0</td>\n",
       "      <td>76</td>\n",
       "      <td>1</td>\n",
       "      <td>259.44</td>\n",
       "      <td>2</td>\n",
       "    </tr>\n",
       "    <tr>\n",
       "      <th>59539</th>\n",
       "      <td>1</td>\n",
       "      <td>49</td>\n",
       "      <td>2</td>\n",
       "      <td>1162.00</td>\n",
       "      <td>4</td>\n",
       "    </tr>\n",
       "    <tr>\n",
       "      <th>59859</th>\n",
       "      <td>0</td>\n",
       "      <td>30</td>\n",
       "      <td>7</td>\n",
       "      <td>2535.10</td>\n",
       "      <td>4</td>\n",
       "    </tr>\n",
       "    <tr>\n",
       "      <th>61439</th>\n",
       "      <td>1</td>\n",
       "      <td>32</td>\n",
       "      <td>4</td>\n",
       "      <td>1106.10</td>\n",
       "      <td>4</td>\n",
       "    </tr>\n",
       "    <tr>\n",
       "      <th>63970</th>\n",
       "      <td>1</td>\n",
       "      <td>42</td>\n",
       "      <td>5</td>\n",
       "      <td>1731.10</td>\n",
       "      <td>4</td>\n",
       "    </tr>\n",
       "    <tr>\n",
       "      <th>75506</th>\n",
       "      <td>0</td>\n",
       "      <td>44</td>\n",
       "      <td>2</td>\n",
       "      <td>1756.70</td>\n",
       "      <td>4</td>\n",
       "    </tr>\n",
       "    <tr>\n",
       "      <th>78688</th>\n",
       "      <td>1</td>\n",
       "      <td>40</td>\n",
       "      <td>2</td>\n",
       "      <td>1080.60</td>\n",
       "      <td>1</td>\n",
       "    </tr>\n",
       "  </tbody>\n",
       "</table>\n",
       "</div>"
      ],
      "text/plain": [
       "       in-store  age  items   amount  region\n",
       "17858         0   76      6   283.61       2\n",
       "26112         0   67      4   320.41       2\n",
       "29343         1   23      2  1019.50       4\n",
       "33834         1   38      3  1993.80       1\n",
       "34214         1   31      5  1488.10       4\n",
       "34706         0   39      5  1268.00       4\n",
       "35971         0   38      7   391.51       2\n",
       "43958         1   22      1  1303.20       4\n",
       "44308         1   26      5  1495.70       4\n",
       "45164         0   79      6   342.28       2\n",
       "47414         0   27      6  1555.10       4\n",
       "51600         0   56      2  1941.70       4\n",
       "52013         1   50      5  1889.40       1\n",
       "53652         0   29      2   144.43       2\n",
       "58454         0   76      1   259.44       2\n",
       "59539         1   49      2  1162.00       4\n",
       "59859         0   30      7  2535.10       4\n",
       "61439         1   32      4  1106.10       4\n",
       "63970         1   42      5  1731.10       4\n",
       "75506         0   44      2  1756.70       4\n",
       "78688         1   40      2  1080.60       1"
      ]
     },
     "execution_count": 6,
     "metadata": {},
     "output_type": "execute_result"
    }
   ],
   "source": [
    "data[data.duplicated(keep='first')]"
   ]
  },
  {
   "cell_type": "code",
   "execution_count": 7,
   "id": "d43b62fd",
   "metadata": {},
   "outputs": [],
   "source": [
    "data = data.drop_duplicates()"
   ]
  },
  {
   "cell_type": "code",
   "execution_count": 8,
   "id": "7874531a",
   "metadata": {},
   "outputs": [
    {
     "name": "stdout",
     "output_type": "stream",
     "text": [
      "<class 'pandas.core.frame.DataFrame'>\n",
      "Int64Index: 79979 entries, 0 to 79999\n",
      "Data columns (total 5 columns):\n",
      " #   Column    Non-Null Count  Dtype  \n",
      "---  ------    --------------  -----  \n",
      " 0   in-store  79979 non-null  int64  \n",
      " 1   age       79979 non-null  int64  \n",
      " 2   items     79979 non-null  int64  \n",
      " 3   amount    79979 non-null  float64\n",
      " 4   region    79979 non-null  int64  \n",
      "dtypes: float64(1), int64(4)\n",
      "memory usage: 3.7 MB\n"
     ]
    }
   ],
   "source": [
    "data.info()"
   ]
  },
  {
   "cell_type": "markdown",
   "id": "c6c2dac6",
   "metadata": {},
   "source": [
    "### 21 duplicates were removed from the dataset. I decided to remove all duplicates, because the amount of duplicates were not high and indexes of transactions were different (not in sequence)."
   ]
  },
  {
   "cell_type": "code",
   "execution_count": 9,
   "id": "dc90da57",
   "metadata": {},
   "outputs": [
    {
     "data": {
      "text/plain": [
       "in-store        2\n",
       "age            68\n",
       "items           8\n",
       "amount      56112\n",
       "region          4\n",
       "dtype: int64"
      ]
     },
     "execution_count": 9,
     "metadata": {},
     "output_type": "execute_result"
    }
   ],
   "source": [
    "data.nunique()"
   ]
  },
  {
   "cell_type": "code",
   "execution_count": 10,
   "id": "c7366894",
   "metadata": {},
   "outputs": [
    {
     "name": "stdout",
     "output_type": "stream",
     "text": [
      "in-store    0\n",
      "age         0\n",
      "items       0\n",
      "amount      0\n",
      "region      0\n",
      "dtype: int64\n"
     ]
    }
   ],
   "source": [
    "print(data.isnull().sum())"
   ]
  },
  {
   "cell_type": "markdown",
   "id": "d9c3b007",
   "metadata": {},
   "source": [
    "### Dataset do not contain missing values"
   ]
  },
  {
   "cell_type": "markdown",
   "id": "334a2d76",
   "metadata": {},
   "source": [
    "# 4. Features extraction"
   ]
  },
  {
   "cell_type": "markdown",
   "id": "a31d8280",
   "metadata": {},
   "source": [
    "Age rounded to nearest tenth"
   ]
  },
  {
   "cell_type": "code",
   "execution_count": 11,
   "id": "3dfe2333",
   "metadata": {},
   "outputs": [],
   "source": [
    "data['age_round'] = ((data['age']/10).round()*10).astype(int)"
   ]
  },
  {
   "cell_type": "markdown",
   "id": "6e5bce7b",
   "metadata": {},
   "source": [
    "Amount spend per item"
   ]
  },
  {
   "cell_type": "code",
   "execution_count": 12,
   "id": "13019da0",
   "metadata": {},
   "outputs": [],
   "source": [
    "data['amount_per_item'] = data['amount']/data['items']"
   ]
  },
  {
   "cell_type": "markdown",
   "id": "569d8218",
   "metadata": {},
   "source": [
    "Counting people in each age group (every 10 years)."
   ]
  },
  {
   "cell_type": "code",
   "execution_count": 13,
   "id": "2c7bb8c5",
   "metadata": {},
   "outputs": [],
   "source": [
    "age_counts = data['age_round'].value_counts().sort_index()"
   ]
  },
  {
   "cell_type": "markdown",
   "id": "64f36ca0",
   "metadata": {},
   "source": [
    "# 5. Data visualization"
   ]
  },
  {
   "cell_type": "markdown",
   "id": "9436a824",
   "metadata": {},
   "source": [
    "## Simple visualization of data"
   ]
  },
  {
   "cell_type": "code",
   "execution_count": 14,
   "id": "1d843b5b",
   "metadata": {},
   "outputs": [
    {
     "data": {
      "image/png": "[encoded data removed]",
      "text/plain": [
       "<Figure size 432x288 with 1 Axes>"
      ]
     },
     "metadata": {},
     "output_type": "display_data"
    }
   ],
   "source": [
    "labels = [\"in-store purchases\", \"online purchases\"]\n",
    "\n",
    "plt.pie([data[data['in-store']==1]['in-store'].count(), data[data['in-store']==0]['in-store'].count()], labels=labels, autopct='%1.0f%%')\n",
    "plt.show()"
   ]
  },
  {
   "cell_type": "code",
   "execution_count": 15,
   "id": "493bf118",
   "metadata": {},
   "outputs": [
    {
     "data": {
      "image/png": "[encoded data removed]",
      "text/plain": [
       "<Figure size 432x288 with 1 Axes>"
      ]
     },
     "metadata": {},
     "output_type": "display_data"
    }
   ],
   "source": [
    "labels = [\"in-store purchases\", \"online purchases\"]\n",
    "\n",
    "plt.pie([data[(data['in-store']==1)&(data['region']==1)]['in-store'].count(), data[(data['in-store']==0)&(data['region']==1)]['in-store'].count()], labels=labels, autopct='%1.0f%%')\n",
    "plt.title(\"North\")\n",
    "plt.show()"
   ]
  },
  {
   "cell_type": "code",
   "execution_count": 16,
   "id": "27465563",
   "metadata": {},
   "outputs": [
    {
     "data": {
      "image/png": "[encoded data removed]",
      "text/plain": [
       "<Figure size 432x288 with 1 Axes>"
      ]
     },
     "metadata": {},
     "output_type": "display_data"
    }
   ],
   "source": [
    "labels = [\"in-store purchases\", \"online purchases\"]\n",
    "\n",
    "plt.pie([data[(data['in-store']==1)&(data['region']==2)]['in-store'].count(), data[(data['in-store']==0)&(data['region']==2)]['in-store'].count()], labels=labels, autopct='%1.0f%%')\n",
    "plt.title(\"South\")\n",
    "plt.show()"
   ]
  },
  {
   "cell_type": "code",
   "execution_count": 17,
   "id": "ae00afd6",
   "metadata": {},
   "outputs": [
    {
     "data": {
      "image/png": "[encoded data removed]",
      "text/plain": [
       "<Figure size 432x288 with 1 Axes>"
      ]
     },
     "metadata": {},
     "output_type": "display_data"
    }
   ],
   "source": [
    "labels = [\"in-store purchases\", \"online purchases\"]\n",
    "\n",
    "plt.pie([data[(data['in-store']==1)&(data['region']==3)]['in-store'].count(), data[(data['in-store']==0)&(data['region']==3)]['in-store'].count()], labels=labels, autopct='%1.0f%%')\n",
    "plt.title(\"East\")\n",
    "plt.show()"
   ]
  },
  {
   "cell_type": "code",
   "execution_count": 18,
   "id": "fe29c118",
   "metadata": {},
   "outputs": [
    {
     "data": {
      "image/png": "[encoded data removed]",
      "text/plain": [
       "<Figure size 432x288 with 1 Axes>"
      ]
     },
     "metadata": {},
     "output_type": "display_data"
    }
   ],
   "source": [
    "labels = [\"in-store purchases\", \"online purchases\"]\n",
    "\n",
    "plt.pie([data[(data['in-store']==1)&(data['region']==4)]['in-store'].count(), data[(data['in-store']==0)&(data['region']==4)]['in-store'].count()], labels=labels, autopct='%1.0f%%')\n",
    "plt.title(\"West\")\n",
    "plt.show()"
   ]
  },
  {
   "cell_type": "markdown",
   "id": "846d1387",
   "metadata": {},
   "source": [
    "### North customers buy only in-store, South customers buy only online. More than 60% of East customers buy instore. Half of West customers buy online."
   ]
  },
  {
   "cell_type": "code",
   "execution_count": 19,
   "id": "3c2f53e9",
   "metadata": {},
   "outputs": [
    {
     "data": {
      "image/png": "[encoded data removed]",
      "text/plain": [
       "<Figure size 432x288 with 1 Axes>"
      ]
     },
     "metadata": {},
     "output_type": "display_data"
    }
   ],
   "source": [
    "labels = [\"North\", \"South\", \"East\", \"West\"]\n",
    "\n",
    "plt.pie([data[data['region']==1]['region'].count(), data[data['region']==2]['region'].count(), data[data['region']==3]['region'].count(), data[data['region']==4]['region'].count()], labels=labels, autopct='%1.0f%%')\n",
    "plt.show()"
   ]
  },
  {
   "cell_type": "code",
   "execution_count": 20,
   "id": "f23bee2f",
   "metadata": {},
   "outputs": [
    {
     "data": {
      "image/png": "[encoded data removed]",
      "text/plain": [
       "<Figure size 432x288 with 1 Axes>"
      ]
     },
     "metadata": {
      "needs_background": "light"
     },
     "output_type": "display_data"
    }
   ],
   "source": [
    "plt.hist(data['age'])\n",
    "plt.xlabel('age')\n",
    "plt.ylabel('count')\n",
    "plt.show()"
   ]
  },
  {
   "cell_type": "markdown",
   "id": "5eb6762d",
   "metadata": {},
   "source": [
    "### Age data histogram is Positively (Right) Skewed. "
   ]
  },
  {
   "cell_type": "code",
   "execution_count": 21,
   "id": "72efabdf",
   "metadata": {},
   "outputs": [
    {
     "data": {
      "image/png": "[encoded data removed]",
      "text/plain": [
       "<Figure size 432x288 with 1 Axes>"
      ]
     },
     "metadata": {
      "needs_background": "light"
     },
     "output_type": "display_data"
    }
   ],
   "source": [
    "plt.hist(data['items'])\n",
    "plt.xlabel('items')\n",
    "plt.ylabel('count')\n",
    "plt.show()"
   ]
  },
  {
   "cell_type": "code",
   "execution_count": 22,
   "id": "7ff01cb6",
   "metadata": {},
   "outputs": [
    {
     "data": {
      "image/png": "[encoded data removed]",
      "text/plain": [
       "<Figure size 432x288 with 1 Axes>"
      ]
     },
     "metadata": {
      "needs_background": "light"
     },
     "output_type": "display_data"
    }
   ],
   "source": [
    "plt.hist(data['amount'])\n",
    "plt.xlabel('amount')\n",
    "plt.ylabel('count')\n",
    "plt.show()"
   ]
  },
  {
   "cell_type": "markdown",
   "id": "40a0f6e0",
   "metadata": {},
   "source": [
    "### Most often, less than 750 were spend when shopping."
   ]
  },
  {
   "cell_type": "markdown",
   "id": "8ace012e",
   "metadata": {},
   "source": [
    "# 6. Do customers in different regions spend more per transaction? Which regions spend the most/least?"
   ]
  },
  {
   "cell_type": "code",
   "execution_count": 23,
   "id": "cd0665ba",
   "metadata": {},
   "outputs": [
    {
     "data": {
      "image/png": "[encoded data removed]",
      "text/plain": [
       "<Figure size 432x288 with 1 Axes>"
      ]
     },
     "metadata": {
      "needs_background": "light"
     },
     "output_type": "display_data"
    }
   ],
   "source": [
    "plt.bar(labels,data['amount'].groupby(data['region']).sum())\n",
    "plt.show()"
   ]
  },
  {
   "cell_type": "markdown",
   "id": "7076a09f",
   "metadata": {},
   "source": [
    "### The bar plot shows that customers from West spend the most per transaction and customers from South spend the least per transaction"
   ]
  },
  {
   "cell_type": "markdown",
   "id": "b8f58b06",
   "metadata": {},
   "source": [
    "# 7. Is there a relationship between the number of items purchased and amount spent?"
   ]
  },
  {
   "cell_type": "code",
   "execution_count": 24,
   "id": "bced0bec",
   "metadata": {},
   "outputs": [
    {
     "data": {
      "text/html": [
       "<div>\n",
       "<style scoped>\n",
       "    .dataframe tbody tr th:only-of-type {\n",
       "        vertical-align: middle;\n",
       "    }\n",
       "\n",
       "    .dataframe tbody tr th {\n",
       "        vertical-align: top;\n",
       "    }\n",
       "\n",
       "    .dataframe thead th {\n",
       "        text-align: right;\n",
       "    }\n",
       "</style>\n",
       "<table border=\"1\" class=\"dataframe\">\n",
       "  <thead>\n",
       "    <tr style=\"text-align: right;\">\n",
       "      <th></th>\n",
       "      <th>in-store</th>\n",
       "      <th>age</th>\n",
       "      <th>items</th>\n",
       "      <th>amount</th>\n",
       "      <th>region</th>\n",
       "      <th>age_round</th>\n",
       "      <th>amount_per_item</th>\n",
       "    </tr>\n",
       "  </thead>\n",
       "  <tbody>\n",
       "    <tr>\n",
       "      <th>in-store</th>\n",
       "      <td>1.000000</td>\n",
       "      <td>-0.178180</td>\n",
       "      <td>-0.003897</td>\n",
       "      <td>-0.085573</td>\n",
       "      <td>-0.133171</td>\n",
       "      <td>-0.180490</td>\n",
       "      <td>-0.054597</td>\n",
       "    </tr>\n",
       "    <tr>\n",
       "      <th>age</th>\n",
       "      <td>-0.178180</td>\n",
       "      <td>1.000000</td>\n",
       "      <td>0.000657</td>\n",
       "      <td>-0.282033</td>\n",
       "      <td>-0.235370</td>\n",
       "      <td>0.983693</td>\n",
       "      <td>-0.187250</td>\n",
       "    </tr>\n",
       "    <tr>\n",
       "      <th>items</th>\n",
       "      <td>-0.003897</td>\n",
       "      <td>0.000657</td>\n",
       "      <td>1.000000</td>\n",
       "      <td>0.000384</td>\n",
       "      <td>-0.001904</td>\n",
       "      <td>0.000210</td>\n",
       "      <td>-0.469112</td>\n",
       "    </tr>\n",
       "    <tr>\n",
       "      <th>amount</th>\n",
       "      <td>-0.085573</td>\n",
       "      <td>-0.282033</td>\n",
       "      <td>0.000384</td>\n",
       "      <td>1.000000</td>\n",
       "      <td>0.403486</td>\n",
       "      <td>-0.276769</td>\n",
       "      <td>0.666868</td>\n",
       "    </tr>\n",
       "    <tr>\n",
       "      <th>region</th>\n",
       "      <td>-0.133171</td>\n",
       "      <td>-0.235370</td>\n",
       "      <td>-0.001904</td>\n",
       "      <td>0.403486</td>\n",
       "      <td>1.000000</td>\n",
       "      <td>-0.231827</td>\n",
       "      <td>0.269473</td>\n",
       "    </tr>\n",
       "    <tr>\n",
       "      <th>age_round</th>\n",
       "      <td>-0.180490</td>\n",
       "      <td>0.983693</td>\n",
       "      <td>0.000210</td>\n",
       "      <td>-0.276769</td>\n",
       "      <td>-0.231827</td>\n",
       "      <td>1.000000</td>\n",
       "      <td>-0.183685</td>\n",
       "    </tr>\n",
       "    <tr>\n",
       "      <th>amount_per_item</th>\n",
       "      <td>-0.054597</td>\n",
       "      <td>-0.187250</td>\n",
       "      <td>-0.469112</td>\n",
       "      <td>0.666868</td>\n",
       "      <td>0.269473</td>\n",
       "      <td>-0.183685</td>\n",
       "      <td>1.000000</td>\n",
       "    </tr>\n",
       "  </tbody>\n",
       "</table>\n",
       "</div>"
      ],
      "text/plain": [
       "                 in-store       age     items    amount    region  age_round  \\\n",
       "in-store         1.000000 -0.178180 -0.003897 -0.085573 -0.133171  -0.180490   \n",
       "age             -0.178180  1.000000  0.000657 -0.282033 -0.235370   0.983693   \n",
       "items           -0.003897  0.000657  1.000000  0.000384 -0.001904   0.000210   \n",
       "amount          -0.085573 -0.282033  0.000384  1.000000  0.403486  -0.276769   \n",
       "region          -0.133171 -0.235370 -0.001904  0.403486  1.000000  -0.231827   \n",
       "age_round       -0.180490  0.983693  0.000210 -0.276769 -0.231827   1.000000   \n",
       "amount_per_item -0.054597 -0.187250 -0.469112  0.666868  0.269473  -0.183685   \n",
       "\n",
       "                 amount_per_item  \n",
       "in-store               -0.054597  \n",
       "age                    -0.187250  \n",
       "items                  -0.469112  \n",
       "amount                  0.666868  \n",
       "region                  0.269473  \n",
       "age_round              -0.183685  \n",
       "amount_per_item         1.000000  "
      ]
     },
     "execution_count": 24,
     "metadata": {},
     "output_type": "execute_result"
    }
   ],
   "source": [
    "data.corr('pearson')"
   ]
  },
  {
   "cell_type": "markdown",
   "id": "f9a7de4b",
   "metadata": {},
   "source": [
    "### There are no Pearson correlation between items and amount, but there are observed correlation (not very strong) between age - in-store, region - items, region - age."
   ]
  },
  {
   "cell_type": "code",
   "execution_count": 25,
   "id": "0ba84360",
   "metadata": {},
   "outputs": [
    {
     "data": {
      "text/html": [
       "<div>\n",
       "<style scoped>\n",
       "    .dataframe tbody tr th:only-of-type {\n",
       "        vertical-align: middle;\n",
       "    }\n",
       "\n",
       "    .dataframe tbody tr th {\n",
       "        vertical-align: top;\n",
       "    }\n",
       "\n",
       "    .dataframe thead th {\n",
       "        text-align: right;\n",
       "    }\n",
       "</style>\n",
       "<table border=\"1\" class=\"dataframe\">\n",
       "  <thead>\n",
       "    <tr style=\"text-align: right;\">\n",
       "      <th></th>\n",
       "      <th>in-store</th>\n",
       "      <th>age</th>\n",
       "      <th>items</th>\n",
       "      <th>amount</th>\n",
       "      <th>region</th>\n",
       "      <th>age_round</th>\n",
       "      <th>amount_per_item</th>\n",
       "    </tr>\n",
       "  </thead>\n",
       "  <tbody>\n",
       "    <tr>\n",
       "      <th>in-store</th>\n",
       "      <td>1.000000</td>\n",
       "      <td>-0.161105</td>\n",
       "      <td>-0.003934</td>\n",
       "      <td>0.064018</td>\n",
       "      <td>-0.118973</td>\n",
       "      <td>-0.163983</td>\n",
       "      <td>0.065860</td>\n",
       "    </tr>\n",
       "    <tr>\n",
       "      <th>age</th>\n",
       "      <td>-0.161105</td>\n",
       "      <td>1.000000</td>\n",
       "      <td>0.000603</td>\n",
       "      <td>-0.289539</td>\n",
       "      <td>-0.230860</td>\n",
       "      <td>0.983411</td>\n",
       "      <td>-0.250395</td>\n",
       "    </tr>\n",
       "    <tr>\n",
       "      <th>items</th>\n",
       "      <td>-0.003934</td>\n",
       "      <td>0.000603</td>\n",
       "      <td>1.000000</td>\n",
       "      <td>-0.000380</td>\n",
       "      <td>-0.001707</td>\n",
       "      <td>0.000187</td>\n",
       "      <td>-0.456939</td>\n",
       "    </tr>\n",
       "    <tr>\n",
       "      <th>amount</th>\n",
       "      <td>0.064018</td>\n",
       "      <td>-0.289539</td>\n",
       "      <td>-0.000380</td>\n",
       "      <td>1.000000</td>\n",
       "      <td>0.401786</td>\n",
       "      <td>-0.285544</td>\n",
       "      <td>0.866432</td>\n",
       "    </tr>\n",
       "    <tr>\n",
       "      <th>region</th>\n",
       "      <td>-0.118973</td>\n",
       "      <td>-0.230860</td>\n",
       "      <td>-0.001707</td>\n",
       "      <td>0.401786</td>\n",
       "      <td>1.000000</td>\n",
       "      <td>-0.227792</td>\n",
       "      <td>0.346798</td>\n",
       "    </tr>\n",
       "    <tr>\n",
       "      <th>age_round</th>\n",
       "      <td>-0.163983</td>\n",
       "      <td>0.983411</td>\n",
       "      <td>0.000187</td>\n",
       "      <td>-0.285544</td>\n",
       "      <td>-0.227792</td>\n",
       "      <td>1.000000</td>\n",
       "      <td>-0.246700</td>\n",
       "    </tr>\n",
       "    <tr>\n",
       "      <th>amount_per_item</th>\n",
       "      <td>0.065860</td>\n",
       "      <td>-0.250395</td>\n",
       "      <td>-0.456939</td>\n",
       "      <td>0.866432</td>\n",
       "      <td>0.346798</td>\n",
       "      <td>-0.246700</td>\n",
       "      <td>1.000000</td>\n",
       "    </tr>\n",
       "  </tbody>\n",
       "</table>\n",
       "</div>"
      ],
      "text/plain": [
       "                 in-store       age     items    amount    region  age_round  \\\n",
       "in-store         1.000000 -0.161105 -0.003934  0.064018 -0.118973  -0.163983   \n",
       "age             -0.161105  1.000000  0.000603 -0.289539 -0.230860   0.983411   \n",
       "items           -0.003934  0.000603  1.000000 -0.000380 -0.001707   0.000187   \n",
       "amount           0.064018 -0.289539 -0.000380  1.000000  0.401786  -0.285544   \n",
       "region          -0.118973 -0.230860 -0.001707  0.401786  1.000000  -0.227792   \n",
       "age_round       -0.163983  0.983411  0.000187 -0.285544 -0.227792   1.000000   \n",
       "amount_per_item  0.065860 -0.250395 -0.456939  0.866432  0.346798  -0.246700   \n",
       "\n",
       "                 amount_per_item  \n",
       "in-store                0.065860  \n",
       "age                    -0.250395  \n",
       "items                  -0.456939  \n",
       "amount                  0.866432  \n",
       "region                  0.346798  \n",
       "age_round              -0.246700  \n",
       "amount_per_item         1.000000  "
      ]
     },
     "execution_count": 25,
     "metadata": {},
     "output_type": "execute_result"
    }
   ],
   "source": [
    "data.corr('spearman')"
   ]
  },
  {
   "cell_type": "markdown",
   "id": "8755e082",
   "metadata": {},
   "source": [
    "### There are no Spearman correlation between items and amount, but there are observed correlation (not very strong) between age - in-store, region - items, region - age."
   ]
  },
  {
   "cell_type": "code",
   "execution_count": 26,
   "id": "9ec70c04",
   "metadata": {},
   "outputs": [
    {
     "data": {
      "text/html": [
       "<div>\n",
       "<style scoped>\n",
       "    .dataframe tbody tr th:only-of-type {\n",
       "        vertical-align: middle;\n",
       "    }\n",
       "\n",
       "    .dataframe tbody tr th {\n",
       "        vertical-align: top;\n",
       "    }\n",
       "\n",
       "    .dataframe thead th {\n",
       "        text-align: right;\n",
       "    }\n",
       "</style>\n",
       "<table border=\"1\" class=\"dataframe\">\n",
       "  <thead>\n",
       "    <tr style=\"text-align: right;\">\n",
       "      <th></th>\n",
       "      <th>in-store</th>\n",
       "      <th>age</th>\n",
       "      <th>items</th>\n",
       "      <th>amount</th>\n",
       "      <th>region</th>\n",
       "      <th>age_round</th>\n",
       "      <th>amount_per_item</th>\n",
       "    </tr>\n",
       "  </thead>\n",
       "  <tbody>\n",
       "    <tr>\n",
       "      <th>in-store</th>\n",
       "      <td>0.250003</td>\n",
       "      <td>-1.400071</td>\n",
       "      <td>-0.004017</td>\n",
       "      <td>-30.860425</td>\n",
       "      <td>-0.075019</td>\n",
       "      <td>-1.437305</td>\n",
       "      <td>-9.055042</td>\n",
       "    </tr>\n",
       "    <tr>\n",
       "      <th>age</th>\n",
       "      <td>-1.400071</td>\n",
       "      <td>246.966189</td>\n",
       "      <td>0.021270</td>\n",
       "      <td>-3196.782841</td>\n",
       "      <td>-4.167305</td>\n",
       "      <td>246.207072</td>\n",
       "      <td>-976.086822</td>\n",
       "    </tr>\n",
       "    <tr>\n",
       "      <th>items</th>\n",
       "      <td>-0.004017</td>\n",
       "      <td>0.021270</td>\n",
       "      <td>4.248751</td>\n",
       "      <td>0.570791</td>\n",
       "      <td>-0.004421</td>\n",
       "      <td>0.006902</td>\n",
       "      <td>-320.740893</td>\n",
       "    </tr>\n",
       "    <tr>\n",
       "      <th>amount</th>\n",
       "      <td>-30.860425</td>\n",
       "      <td>-3196.782841</td>\n",
       "      <td>0.570791</td>\n",
       "      <td>520221.252295</td>\n",
       "      <td>327.874873</td>\n",
       "      <td>-3179.312744</td>\n",
       "      <td>159544.095944</td>\n",
       "    </tr>\n",
       "    <tr>\n",
       "      <th>region</th>\n",
       "      <td>-0.075019</td>\n",
       "      <td>-4.167305</td>\n",
       "      <td>-0.004421</td>\n",
       "      <td>327.874873</td>\n",
       "      <td>1.269321</td>\n",
       "      <td>-4.159804</td>\n",
       "      <td>100.704315</td>\n",
       "    </tr>\n",
       "    <tr>\n",
       "      <th>age_round</th>\n",
       "      <td>-1.437305</td>\n",
       "      <td>246.207072</td>\n",
       "      <td>0.006902</td>\n",
       "      <td>-3179.312744</td>\n",
       "      <td>-4.159804</td>\n",
       "      <td>253.655719</td>\n",
       "      <td>-970.382868</td>\n",
       "    </tr>\n",
       "    <tr>\n",
       "      <th>amount_per_item</th>\n",
       "      <td>-9.055042</td>\n",
       "      <td>-976.086822</td>\n",
       "      <td>-320.740893</td>\n",
       "      <td>159544.095944</td>\n",
       "      <td>100.704315</td>\n",
       "      <td>-970.382868</td>\n",
       "      <td>110025.629587</td>\n",
       "    </tr>\n",
       "  </tbody>\n",
       "</table>\n",
       "</div>"
      ],
      "text/plain": [
       "                  in-store          age       items         amount  \\\n",
       "in-store          0.250003    -1.400071   -0.004017     -30.860425   \n",
       "age              -1.400071   246.966189    0.021270   -3196.782841   \n",
       "items            -0.004017     0.021270    4.248751       0.570791   \n",
       "amount          -30.860425 -3196.782841    0.570791  520221.252295   \n",
       "region           -0.075019    -4.167305   -0.004421     327.874873   \n",
       "age_round        -1.437305   246.207072    0.006902   -3179.312744   \n",
       "amount_per_item  -9.055042  -976.086822 -320.740893  159544.095944   \n",
       "\n",
       "                     region    age_round  amount_per_item  \n",
       "in-store          -0.075019    -1.437305        -9.055042  \n",
       "age               -4.167305   246.207072      -976.086822  \n",
       "items             -0.004421     0.006902      -320.740893  \n",
       "amount           327.874873 -3179.312744    159544.095944  \n",
       "region             1.269321    -4.159804       100.704315  \n",
       "age_round         -4.159804   253.655719      -970.382868  \n",
       "amount_per_item  100.704315  -970.382868    110025.629587  "
      ]
     },
     "execution_count": 26,
     "metadata": {},
     "output_type": "execute_result"
    }
   ],
   "source": [
    "data.cov()"
   ]
  },
  {
   "cell_type": "markdown",
   "id": "e6420d70",
   "metadata": {},
   "source": [
    "# 8. More EDA"
   ]
  },
  {
   "cell_type": "markdown",
   "id": "43af6865",
   "metadata": {},
   "source": [
    "## Checking dependency between amount and items purchased online and in-store"
   ]
  },
  {
   "cell_type": "code",
   "execution_count": 27,
   "id": "26530b91",
   "metadata": {},
   "outputs": [
    {
     "data": {
      "text/plain": [
       "<BarContainer object of 2 artists>"
      ]
     },
     "execution_count": 27,
     "metadata": {},
     "output_type": "execute_result"
    },
    {
     "data": {
      "image/png": "[encoded data removed]",
      "text/plain": [
       "<Figure size 432x288 with 1 Axes>"
      ]
     },
     "metadata": {
      "needs_background": "light"
     },
     "output_type": "display_data"
    }
   ],
   "source": [
    "plt.bar(['online', 'in store'],data['items'].groupby(data['in-store']).sum())"
   ]
  },
  {
   "cell_type": "code",
   "execution_count": 28,
   "id": "2a72d7f7",
   "metadata": {},
   "outputs": [
    {
     "data": {
      "text/plain": [
       "<BarContainer object of 2 artists>"
      ]
     },
     "execution_count": 28,
     "metadata": {},
     "output_type": "execute_result"
    },
    {
     "data": {
      "image/png": "[encoded data removed]",
      "text/plain": [
       "<Figure size 432x288 with 1 Axes>"
      ]
     },
     "metadata": {
      "needs_background": "light"
     },
     "output_type": "display_data"
    }
   ],
   "source": [
    "plt.bar(['online', 'in_store'],data['amount'].groupby(data['in-store']).sum())"
   ]
  },
  {
   "cell_type": "code",
   "execution_count": 29,
   "id": "23468922",
   "metadata": {},
   "outputs": [
    {
     "data": {
      "image/png": "[encoded data removed]",
      "text/plain": [
       "<Figure size 432x288 with 1 Axes>"
      ]
     },
     "metadata": {
      "needs_background": "light"
     },
     "output_type": "display_data"
    }
   ],
   "source": [
    "plt.bar(['online', 'in-store'],data['amount_per_item'].groupby(data['in-store']).sum())\n",
    "plt.show()"
   ]
  },
  {
   "cell_type": "markdown",
   "id": "6d00cb39",
   "metadata": {},
   "source": [
    "### Total number of items purchased online is same as total number of items purchased online, but customers spend more money during online shoping, because they choose more expensive products than in in-store shopping."
   ]
  },
  {
   "cell_type": "markdown",
   "id": "00f921fe",
   "metadata": {},
   "source": [
    "## Checking dependency between age and items, amount and amount per item"
   ]
  },
  {
   "cell_type": "code",
   "execution_count": 30,
   "id": "7f27abd4",
   "metadata": {},
   "outputs": [
    {
     "data": {
      "image/png": "[encoded data removed]",
      "text/plain": [
       "<Figure size 432x288 with 1 Axes>"
      ]
     },
     "metadata": {
      "needs_background": "light"
     },
     "output_type": "display_data"
    }
   ],
   "source": [
    "plt.bar(data['amount'].groupby(data['age_round']).sum().index, data['amount'].groupby(data['age_round']).sum().values)\n",
    "plt.xlabel('Age')\n",
    "plt.ylabel('Sum of amount spent')\n",
    "plt.show()"
   ]
  },
  {
   "cell_type": "code",
   "execution_count": 31,
   "id": "df752beb",
   "metadata": {},
   "outputs": [
    {
     "data": {
      "image/png": "[encoded data removed]",
      "text/plain": [
       "<Figure size 432x288 with 1 Axes>"
      ]
     },
     "metadata": {
      "needs_background": "light"
     },
     "output_type": "display_data"
    }
   ],
   "source": [
    "plt.bar(data['amount_per_item'].groupby(data['age_round']).sum().index, data['amount_per_item'].groupby(data['age_round']).sum().values)\n",
    "plt.xlabel('Age')\n",
    "plt.ylabel('Sum of amount per item spent')\n",
    "plt.show()"
   ]
  },
  {
   "cell_type": "code",
   "execution_count": 32,
   "id": "941b356e",
   "metadata": {},
   "outputs": [
    {
     "data": {
      "image/png": "[encoded data removed]",
      "text/plain": [
       "<Figure size 432x288 with 1 Axes>"
      ]
     },
     "metadata": {
      "needs_background": "light"
     },
     "output_type": "display_data"
    }
   ],
   "source": [
    "plt.bar(data['items'].groupby(data['age_round']).sum().index, data['items'].groupby(data['age_round']).sum().values)\n",
    "plt.xlabel('Age')\n",
    "plt.ylabel('Sum of item bought')\n",
    "plt.show()"
   ]
  },
  {
   "cell_type": "markdown",
   "id": "25a8e494",
   "metadata": {},
   "source": [
    "### The bar plots shows that distribution beetween three selected dependencies does not change. Due to the unequal size of age groups, further analyzes are needed, especially taking into account the value per person."
   ]
  },
  {
   "cell_type": "code",
   "execution_count": 33,
   "id": "bf07171e",
   "metadata": {},
   "outputs": [
    {
     "data": {
      "image/png": "[encoded data removed]",
      "text/plain": [
       "<Figure size 432x288 with 1 Axes>"
      ]
     },
     "metadata": {
      "needs_background": "light"
     },
     "output_type": "display_data"
    }
   ],
   "source": [
    "plt.bar(data['items'].groupby(data['age_round']).sum().index, data['items'].groupby(data['age_round']).sum().values/age_counts.values)\n",
    "plt.xlabel('Age')\n",
    "plt.ylabel('Items per person bought')\n",
    "plt.show()"
   ]
  },
  {
   "cell_type": "markdown",
   "id": "850cfad2",
   "metadata": {},
   "source": [
    "### In each age group, customers buy on average the same number of products per person."
   ]
  },
  {
   "cell_type": "code",
   "execution_count": 34,
   "id": "f0447733",
   "metadata": {
    "scrolled": true
   },
   "outputs": [
    {
     "data": {
      "image/png": "[encoded data removed]",
      "text/plain": [
       "<Figure size 432x288 with 1 Axes>"
      ]
     },
     "metadata": {
      "needs_background": "light"
     },
     "output_type": "display_data"
    }
   ],
   "source": [
    "plt.bar(data['amount'].groupby(data['age_round']).sum().index, data['amount'].groupby(data['age_round']).sum().values/age_counts.values)\n",
    "plt.xlabel('Age')\n",
    "plt.ylabel('Amount per person spend')\n",
    "plt.show()"
   ]
  },
  {
   "cell_type": "markdown",
   "id": "bf6c1337",
   "metadata": {},
   "source": [
    "### The bar plot shows that younger people spend in average more money"
   ]
  },
  {
   "cell_type": "code",
   "execution_count": 35,
   "id": "7d4a0a0d",
   "metadata": {},
   "outputs": [
    {
     "data": {
      "image/png": "[encoded data removed]",
      "text/plain": [
       "<Figure size 432x288 with 1 Axes>"
      ]
     },
     "metadata": {
      "needs_background": "light"
     },
     "output_type": "display_data"
    }
   ],
   "source": [
    "plt.bar(data['amount'].groupby(data['age_round']).sum().index, data['amount'].groupby(data['age_round']).sum().values/data['items'].groupby(data['age_round']).sum().values/age_counts.values)\n",
    "plt.xlabel('Age')\n",
    "plt.ylabel('Amount per item per person spend')\n",
    "plt.show()"
   ]
  },
  {
   "cell_type": "markdown",
   "id": "85abad26",
   "metadata": {},
   "source": [
    "### The bar plot shows that younger people spend in average more money per item."
   ]
  },
  {
   "cell_type": "code",
   "execution_count": 36,
   "id": "c84b8a3d",
   "metadata": {},
   "outputs": [
    {
     "data": {
      "image/png": "[encoded data removed]",
      "text/plain": [
       "<Figure size 432x288 with 1 Axes>"
      ]
     },
     "metadata": {
      "needs_background": "light"
     },
     "output_type": "display_data"
    }
   ],
   "source": [
    "instore = data['amount'][data['in-store']==True].groupby(data['age_round']).sum().index, data['amount'][data['in-store']==True].groupby(data['age_round']).sum().values/data['items'][data['in-store']==True].groupby(data['age_round']).sum().values/age_counts.values[:-1]\n",
    "online = data['amount'][data['in-store']==False].groupby(data['age_round']).sum().index, data['amount'][data['in-store']==False].groupby(data['age_round']).sum().values/data['items'][data['in-store']==False].groupby(data['age_round']).sum().values/age_counts.values\n",
    "labels = age_counts.index\n",
    "x_instore = np.arange(len(labels[:-1]))\n",
    "x_online = np.arange(len(labels))\n",
    "width = 0.35\n",
    "\n",
    "fig, ax = plt.subplots()\n",
    "rects1 = ax.bar(x_instore - width/2, instore[1], width, label='In-store')\n",
    "rects2 = ax.bar(x_online + width/2, online[1], width, label='Online')\n",
    "\n",
    "ax.set_ylabel('Amount per item per person spend')\n",
    "ax.set_xlabel('Age')\n",
    "ax.set_xticks(x_online)\n",
    "ax.set_xticklabels(labels.astype(int))\n",
    "ax.legend()\n",
    "\n",
    "fig.tight_layout()\n",
    "\n",
    "plt.show()"
   ]
  },
  {
   "cell_type": "markdown",
   "id": "a7226635",
   "metadata": {},
   "source": [
    "### Presented graph shows that:\n",
    "### a) People older than 80 years old do not buy in-store\n",
    "### b) Only people in their seventies bought more expensive products in-store than online\n",
    "### c) People from 30-60 years old spend more less the same in-store and online per one product\n",
    "### d) Youngest people spend more per item online than in-store"
   ]
  },
  {
   "cell_type": "markdown",
   "id": "5eb95562",
   "metadata": {},
   "source": [
    "## Comparision of amount spend in-store and onlne by East and West customers (North and South customers are skipped because they choose only one method of buying)"
   ]
  },
  {
   "cell_type": "code",
   "execution_count": 37,
   "id": "7bcd9a85",
   "metadata": {},
   "outputs": [
    {
     "data": {
      "image/png": "[encoded data removed]",
      "text/plain": [
       "<Figure size 432x288 with 1 Axes>"
      ]
     },
     "metadata": {
      "needs_background": "light"
     },
     "output_type": "display_data"
    }
   ],
   "source": [
    "instore_reg3 = data['amount'][(data['in-store']==True)&(data['region']==3)].groupby(data['age_round']).sum().index, data['amount'][(data['in-store']==True)&(data['region']==3)].groupby(data['age_round']).sum().values/data['items'][(data['in-store']==True)&(data['region']==3)].groupby(data['age_round']).sum().values/age_counts.values[:-1]\n",
    "online_reg3 = data['amount'][(data['in-store']==False)&(data['region']==3)].groupby(data['age_round']).sum().index, data['amount'][(data['in-store']==False)&(data['region']==3)].groupby(data['age_round']).sum().values/data['items'][(data['in-store']==False)&(data['region']==3)].groupby(data['age_round']).sum().values/age_counts.values[:-2]\n",
    "labels = age_counts.index\n",
    "x_instore = np.arange(len(labels[:-1]))\n",
    "x_online = np.arange(len(labels[:-2]))\n",
    "width = 0.35\n",
    "\n",
    "fig, ax = plt.subplots()\n",
    "rects1 = ax.bar(x_instore - width/2, instore_reg3[1], width, label='In-store East')\n",
    "rects2 = ax.bar(x_online + width/2, online_reg3[1], width, label='Online East')\n",
    "\n",
    "ax.set_ylabel('Amount per item per person spend')\n",
    "ax.set_xlabel('Age')\n",
    "ax.set_xticks(x_instore)\n",
    "ax.set_xticklabels(labels[:-1].astype(int))\n",
    "ax.legend()\n",
    "\n",
    "fig.tight_layout()\n",
    "\n",
    "plt.show()"
   ]
  },
  {
   "cell_type": "markdown",
   "id": "093c8bfa",
   "metadata": {},
   "source": [
    "### People from East spend in average more amount per item online besides 70 yo people which do not buy online"
   ]
  },
  {
   "cell_type": "code",
   "execution_count": 38,
   "id": "075f04fc",
   "metadata": {},
   "outputs": [
    {
     "data": {
      "image/png": "[encoded data removed]",
      "text/plain": [
       "<Figure size 432x288 with 1 Axes>"
      ]
     },
     "metadata": {
      "needs_background": "light"
     },
     "output_type": "display_data"
    }
   ],
   "source": [
    "instore_reg3 = data['amount'][(data['in-store']==True)&(data['region']==4)].groupby(data['age_round']).sum().index, data['amount'][(data['in-store']==True)&(data['region']==4)].groupby(data['age_round']).sum().values/data['items'][(data['in-store']==True)&(data['region']==4)].groupby(data['age_round']).sum().values/age_counts.values[:-2]\n",
    "online_reg3 = data['amount'][(data['in-store']==False)&(data['region']==4)].groupby(data['age_round']).sum().index, data['amount'][(data['in-store']==False)&(data['region']==4)].groupby(data['age_round']).sum().values/data['items'][(data['in-store']==False)&(data['region']==4)].groupby(data['age_round']).sum().values/age_counts.values[:-2]\n",
    "labels = age_counts.index[:-2]\n",
    "x_instore = np.arange(len(labels))\n",
    "x_online = np.arange(len(labels))\n",
    "width = 0.35\n",
    "\n",
    "fig, ax = plt.subplots()\n",
    "rects1 = ax.bar(x_instore - width/2, instore_reg3[1], width, label='In-store West')\n",
    "rects2 = ax.bar(x_online + width/2, online_reg3[1], width, label='Online West')\n",
    "\n",
    "ax.set_ylabel('Amount per item per person spend')\n",
    "ax.set_xlabel('Age')\n",
    "ax.set_xticks(x_instore)\n",
    "ax.set_xticklabels(labels.astype(int))\n",
    "ax.legend()\n",
    "\n",
    "fig.tight_layout()\n",
    "\n",
    "plt.show()"
   ]
  },
  {
   "cell_type": "markdown",
   "id": "6937120e",
   "metadata": {},
   "source": [
    "### People from West spend in average more amount per item online."
   ]
  },
  {
   "cell_type": "markdown",
   "id": "d1af460a",
   "metadata": {},
   "source": [
    "## Comparision of customers age in different regions"
   ]
  },
  {
   "cell_type": "code",
   "execution_count": 39,
   "id": "fc6dd444",
   "metadata": {},
   "outputs": [
    {
     "data": {
      "image/png": "[encoded data removed]",
      "text/plain": [
       "<Figure size 864x864 with 4 Axes>"
      ]
     },
     "metadata": {},
     "output_type": "display_data"
    }
   ],
   "source": [
    "age_counts_north = data['age_round'][data['region']==1].value_counts().sort_index()\n",
    "age_counts_south = data['age_round'][data['region']==2].value_counts().sort_index()\n",
    "age_counts_east = data['age_round'][data['region']==3].value_counts().sort_index()\n",
    "age_counts_west = data['age_round'][data['region']==4].value_counts().sort_index()\n",
    "\n",
    "\n",
    "plt.figure(figsize=(12,12))\n",
    "plt.subplot(2,2,1)\n",
    "plt.pie(np.array(age_counts_north.values), labels=age_counts_north.index, autopct='%1.0f%%')\n",
    "plt.title('North')\n",
    "plt.subplot(2,2,2)\n",
    "plt.pie(np.array(age_counts_south.values), labels=age_counts_south.index, autopct='%1.0f%%')\n",
    "plt.title('South')\n",
    "plt.subplot(2,2,3)\n",
    "plt.pie(np.array(age_counts_east.values), labels=age_counts_east.index, autopct='%1.0f%%')\n",
    "plt.title('East')\n",
    "plt.subplot(2,2,4)\n",
    "plt.pie(np.array(age_counts_west.values), labels=age_counts_west.index, autopct='%1.0f%%')\n",
    "plt.title('West')\n",
    "plt.show()"
   ]
  },
  {
   "cell_type": "markdown",
   "id": "2f9ab67c",
   "metadata": {},
   "source": [
    "### There are no visible outliers. Not all regions have the same age groups."
   ]
  },
  {
   "cell_type": "markdown",
   "id": "bb6a8aa9",
   "metadata": {},
   "source": [
    "# 10. Conclusions"
   ]
  },
  {
   "cell_type": "markdown",
   "id": "bbc59ab2",
   "metadata": {},
   "source": [
    "### The dataset contained 21 duplicates which were removed but do not contain missing data. During the analysis of the collection, it was noticed that customers from the north only buy in-store, while customers from the south choose online shopping. Customers from other regions buy both online and in-store. There was no correlation between items and amount, but there were some relationships between other variables such as: age - in-store, region - items, region - age. Total number of items purchased online is same as total number of items purchased online, but customers spend more money during online shoping, because they choose more expensive products than in in-store shopping or it is effect of added shipping costs to amout of items. It may also be due to the higher price of products in the online store. In each age group, customers buy on average the same number of products per person, but younger peoples spend more money than older. Additional analyzes show that people older than 80 years old do not buy in-store, only people in their seventies bought more expensive products in-store than online, people from 30-60 years old spend more less the same in-store and online per one product and youngest people spend more per item online than in-store. Analyzes have shown that customers spend more online. Overall, there were large differences between regions. Both taking into account the type of purchases and the age groups of customers. Due to these differences, it would be necessary to carry out detailed analyzes for each of the regions separately. One example would be to find out why in the North and South regions customers only shop in-store or only online. This may be due to the lack of availability of another purchasing method. Another issue to be clarified could be the shipping cost included in the amount of online purchases (the question is whether it is added, how much is it, etc.), and then preparing the data without shipping costs."
   ]
  },
  {
   "cell_type": "markdown",
   "id": "00c1a802",
   "metadata": {},
   "source": [
    "# 11. Are there differences in the age of customers between regions?"
   ]
  },
  {
   "cell_type": "markdown",
   "id": "303fdfd0",
   "metadata": {},
   "source": [
    "# 10. Modeling - Classification"
   ]
  },
  {
   "cell_type": "code",
   "execution_count": 53,
   "id": "f620c10e",
   "metadata": {},
   "outputs": [],
   "source": [
    "X = data[['region']]\n",
    "y = data['age_round']\n",
    "X_train, X_test, y_train, y_test = train_test_split(X, y, test_size = .25, random_state = 123)"
   ]
  },
  {
   "cell_type": "markdown",
   "id": "6256d488",
   "metadata": {},
   "source": [
    "## 10 a) Decision Tree Classifier"
   ]
  },
  {
   "cell_type": "code",
   "execution_count": 56,
   "id": "807b6254",
   "metadata": {},
   "outputs": [
    {
     "name": "stdout",
     "output_type": "stream",
     "text": [
      "0.24511127781945485\n"
     ]
    }
   ],
   "source": [
    "model = DecisionTreeClassifier(max_depth=5)\n",
    "model.fit(X_train, y_train)\n",
    "y_pred = model.predict(X_test)\n",
    "print(accuracy_score(y_test, y_pred))"
   ]
  },
  {
   "cell_type": "code",
   "execution_count": null,
   "id": "96a88262",
   "metadata": {},
   "outputs": [],
   "source": []
  },
  {
   "cell_type": "code",
   "execution_count": null,
   "id": "ca29fec4",
   "metadata": {},
   "outputs": [],
   "source": []
  }
 ],
 "metadata": {
  "kernelspec": {
   "display_name": "Python 3",
   "language": "python",
   "name": "python3"
  },
  "language_info": {
   "codemirror_mode": {
    "name": "ipython",
    "version": 3
   },
   "file_extension": ".py",
   "mimetype": "text/x-python",
   "name": "python",
   "nbconvert_exporter": "python",
   "pygments_lexer": "ipython3",
   "version": "3.7.10"
  }
 },
 "nbformat": 4,
 "nbformat_minor": 5
}
