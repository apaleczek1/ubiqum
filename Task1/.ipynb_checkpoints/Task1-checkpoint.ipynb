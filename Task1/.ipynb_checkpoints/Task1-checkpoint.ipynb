{
 "cells": [
  {
   "cell_type": "markdown",
   "id": "aeaae0cb",
   "metadata": {},
   "source": [
    "# 1. Importing necessary modules"
   ]
  },
  {
   "cell_type": "code",
   "execution_count": 93,
   "id": "d80775c7",
   "metadata": {},
   "outputs": [],
   "source": [
    "import pandas as pd\n",
    "import matplotlib.pyplot as plt\n",
    "import numpy as np\n",
    "%matplotlib inline"
   ]
  },
  {
   "cell_type": "markdown",
   "id": "80fca7f5",
   "metadata": {},
   "source": [
    "# 2. Reading data"
   ]
  },
  {
   "cell_type": "code",
   "execution_count": 9,
   "id": "a73a68c8",
   "metadata": {},
   "outputs": [],
   "source": [
    "data = pd.read_csv('Demographic_Data.csv')"
   ]
  },
  {
   "cell_type": "markdown",
   "id": "b5d41003",
   "metadata": {},
   "source": [
    "# 3. Exploring data"
   ]
  },
  {
   "cell_type": "markdown",
   "id": "b1165df7",
   "metadata": {},
   "source": [
    "Displaying first five rows of data"
   ]
  },
  {
   "cell_type": "code",
   "execution_count": 10,
   "id": "697efd58",
   "metadata": {},
   "outputs": [
    {
     "data": {
      "text/html": [
       "<div>\n",
       "<style scoped>\n",
       "    .dataframe tbody tr th:only-of-type {\n",
       "        vertical-align: middle;\n",
       "    }\n",
       "\n",
       "    .dataframe tbody tr th {\n",
       "        vertical-align: top;\n",
       "    }\n",
       "\n",
       "    .dataframe thead th {\n",
       "        text-align: right;\n",
       "    }\n",
       "</style>\n",
       "<table border=\"1\" class=\"dataframe\">\n",
       "  <thead>\n",
       "    <tr style=\"text-align: right;\">\n",
       "      <th></th>\n",
       "      <th>in-store</th>\n",
       "      <th>age</th>\n",
       "      <th>items</th>\n",
       "      <th>amount</th>\n",
       "      <th>region</th>\n",
       "    </tr>\n",
       "  </thead>\n",
       "  <tbody>\n",
       "    <tr>\n",
       "      <th>0</th>\n",
       "      <td>0</td>\n",
       "      <td>37</td>\n",
       "      <td>4</td>\n",
       "      <td>281.03</td>\n",
       "      <td>2</td>\n",
       "    </tr>\n",
       "    <tr>\n",
       "      <th>1</th>\n",
       "      <td>0</td>\n",
       "      <td>35</td>\n",
       "      <td>2</td>\n",
       "      <td>219.51</td>\n",
       "      <td>2</td>\n",
       "    </tr>\n",
       "    <tr>\n",
       "      <th>2</th>\n",
       "      <td>1</td>\n",
       "      <td>45</td>\n",
       "      <td>3</td>\n",
       "      <td>1525.70</td>\n",
       "      <td>4</td>\n",
       "    </tr>\n",
       "    <tr>\n",
       "      <th>3</th>\n",
       "      <td>1</td>\n",
       "      <td>46</td>\n",
       "      <td>3</td>\n",
       "      <td>715.25</td>\n",
       "      <td>3</td>\n",
       "    </tr>\n",
       "    <tr>\n",
       "      <th>4</th>\n",
       "      <td>1</td>\n",
       "      <td>33</td>\n",
       "      <td>4</td>\n",
       "      <td>1937.50</td>\n",
       "      <td>1</td>\n",
       "    </tr>\n",
       "  </tbody>\n",
       "</table>\n",
       "</div>"
      ],
      "text/plain": [
       "   in-store  age  items   amount  region\n",
       "0         0   37      4   281.03       2\n",
       "1         0   35      2   219.51       2\n",
       "2         1   45      3  1525.70       4\n",
       "3         1   46      3   715.25       3\n",
       "4         1   33      4  1937.50       1"
      ]
     },
     "execution_count": 10,
     "metadata": {},
     "output_type": "execute_result"
    }
   ],
   "source": [
    "data.head()"
   ]
  },
  {
   "cell_type": "markdown",
   "id": "9f2c8935",
   "metadata": {},
   "source": [
    "Displaying statistical values of the dataset"
   ]
  },
  {
   "cell_type": "code",
   "execution_count": 11,
   "id": "6b5c9e57",
   "metadata": {},
   "outputs": [
    {
     "data": {
      "text/html": [
       "<div>\n",
       "<style scoped>\n",
       "    .dataframe tbody tr th:only-of-type {\n",
       "        vertical-align: middle;\n",
       "    }\n",
       "\n",
       "    .dataframe tbody tr th {\n",
       "        vertical-align: top;\n",
       "    }\n",
       "\n",
       "    .dataframe thead th {\n",
       "        text-align: right;\n",
       "    }\n",
       "</style>\n",
       "<table border=\"1\" class=\"dataframe\">\n",
       "  <thead>\n",
       "    <tr style=\"text-align: right;\">\n",
       "      <th></th>\n",
       "      <th>in-store</th>\n",
       "      <th>age</th>\n",
       "      <th>items</th>\n",
       "      <th>amount</th>\n",
       "      <th>region</th>\n",
       "    </tr>\n",
       "  </thead>\n",
       "  <tbody>\n",
       "    <tr>\n",
       "      <th>count</th>\n",
       "      <td>80000.000000</td>\n",
       "      <td>80000.000000</td>\n",
       "      <td>80000.000000</td>\n",
       "      <td>80000.000000</td>\n",
       "      <td>80000.000000</td>\n",
       "    </tr>\n",
       "    <tr>\n",
       "      <th>mean</th>\n",
       "      <td>0.500000</td>\n",
       "      <td>45.757925</td>\n",
       "      <td>4.504975</td>\n",
       "      <td>835.919670</td>\n",
       "      <td>2.675000</td>\n",
       "    </tr>\n",
       "    <tr>\n",
       "      <th>std</th>\n",
       "      <td>0.500003</td>\n",
       "      <td>15.715679</td>\n",
       "      <td>2.061238</td>\n",
       "      <td>721.273736</td>\n",
       "      <td>1.126672</td>\n",
       "    </tr>\n",
       "    <tr>\n",
       "      <th>min</th>\n",
       "      <td>0.000000</td>\n",
       "      <td>18.000000</td>\n",
       "      <td>1.000000</td>\n",
       "      <td>5.004700</td>\n",
       "      <td>1.000000</td>\n",
       "    </tr>\n",
       "    <tr>\n",
       "      <th>25%</th>\n",
       "      <td>0.000000</td>\n",
       "      <td>33.000000</td>\n",
       "      <td>3.000000</td>\n",
       "      <td>285.140000</td>\n",
       "      <td>2.000000</td>\n",
       "    </tr>\n",
       "    <tr>\n",
       "      <th>50%</th>\n",
       "      <td>0.500000</td>\n",
       "      <td>45.000000</td>\n",
       "      <td>4.000000</td>\n",
       "      <td>582.315000</td>\n",
       "      <td>3.000000</td>\n",
       "    </tr>\n",
       "    <tr>\n",
       "      <th>75%</th>\n",
       "      <td>1.000000</td>\n",
       "      <td>56.000000</td>\n",
       "      <td>6.000000</td>\n",
       "      <td>1233.700000</td>\n",
       "      <td>4.000000</td>\n",
       "    </tr>\n",
       "    <tr>\n",
       "      <th>max</th>\n",
       "      <td>1.000000</td>\n",
       "      <td>85.000000</td>\n",
       "      <td>8.000000</td>\n",
       "      <td>3000.000000</td>\n",
       "      <td>4.000000</td>\n",
       "    </tr>\n",
       "  </tbody>\n",
       "</table>\n",
       "</div>"
      ],
      "text/plain": [
       "           in-store           age         items        amount        region\n",
       "count  80000.000000  80000.000000  80000.000000  80000.000000  80000.000000\n",
       "mean       0.500000     45.757925      4.504975    835.919670      2.675000\n",
       "std        0.500003     15.715679      2.061238    721.273736      1.126672\n",
       "min        0.000000     18.000000      1.000000      5.004700      1.000000\n",
       "25%        0.000000     33.000000      3.000000    285.140000      2.000000\n",
       "50%        0.500000     45.000000      4.000000    582.315000      3.000000\n",
       "75%        1.000000     56.000000      6.000000   1233.700000      4.000000\n",
       "max        1.000000     85.000000      8.000000   3000.000000      4.000000"
      ]
     },
     "execution_count": 11,
     "metadata": {},
     "output_type": "execute_result"
    }
   ],
   "source": [
    "data.describe()"
   ]
  },
  {
   "cell_type": "code",
   "execution_count": 5,
   "id": "321353a5",
   "metadata": {},
   "outputs": [
    {
     "name": "stdout",
     "output_type": "stream",
     "text": [
      "<class 'pandas.core.frame.DataFrame'>\n",
      "RangeIndex: 80000 entries, 0 to 79999\n",
      "Data columns (total 5 columns):\n",
      " #   Column    Non-Null Count  Dtype  \n",
      "---  ------    --------------  -----  \n",
      " 0   in-store  80000 non-null  int64  \n",
      " 1   age       80000 non-null  int64  \n",
      " 2   items     80000 non-null  int64  \n",
      " 3   amount    80000 non-null  float64\n",
      " 4   region    80000 non-null  int64  \n",
      "dtypes: float64(1), int64(4)\n",
      "memory usage: 3.1 MB\n"
     ]
    }
   ],
   "source": [
    "data.info()"
   ]
  },
  {
   "cell_type": "code",
   "execution_count": 14,
   "id": "7f16bf8a",
   "metadata": {},
   "outputs": [],
   "source": [
    "data = data.drop_duplicates()"
   ]
  },
  {
   "cell_type": "code",
   "execution_count": 16,
   "id": "01466ddb",
   "metadata": {},
   "outputs": [
    {
     "name": "stdout",
     "output_type": "stream",
     "text": [
      "<class 'pandas.core.frame.DataFrame'>\n",
      "Int64Index: 79979 entries, 0 to 79999\n",
      "Data columns (total 5 columns):\n",
      " #   Column    Non-Null Count  Dtype  \n",
      "---  ------    --------------  -----  \n",
      " 0   in-store  79979 non-null  int64  \n",
      " 1   age       79979 non-null  int64  \n",
      " 2   items     79979 non-null  int64  \n",
      " 3   amount    79979 non-null  float64\n",
      " 4   region    79979 non-null  int64  \n",
      "dtypes: float64(1), int64(4)\n",
      "memory usage: 3.7 MB\n"
     ]
    }
   ],
   "source": [
    "data.info()"
   ]
  },
  {
   "cell_type": "markdown",
   "id": "acbae0e2",
   "metadata": {},
   "source": [
    "21 duplicates were removed from the dataset"
   ]
  },
  {
   "cell_type": "code",
   "execution_count": 15,
   "id": "9c7348fe",
   "metadata": {},
   "outputs": [
    {
     "data": {
      "text/plain": [
       "in-store        2\n",
       "age            68\n",
       "items           8\n",
       "amount      56112\n",
       "region          4\n",
       "dtype: int64"
      ]
     },
     "execution_count": 15,
     "metadata": {},
     "output_type": "execute_result"
    }
   ],
   "source": [
    "data.nunique()"
   ]
  },
  {
   "cell_type": "code",
   "execution_count": 13,
   "id": "a01e2a88",
   "metadata": {},
   "outputs": [
    {
     "name": "stdout",
     "output_type": "stream",
     "text": [
      "in-store    0\n",
      "age         0\n",
      "items       0\n",
      "amount      0\n",
      "region      0\n",
      "dtype: int64\n"
     ]
    }
   ],
   "source": [
    "print(data.isnull().sum())"
   ]
  },
  {
   "cell_type": "markdown",
   "id": "84022f7d",
   "metadata": {},
   "source": [
    "Dataset do not contain missing values"
   ]
  },
  {
   "cell_type": "markdown",
   "id": "80c4a6c7",
   "metadata": {},
   "source": [
    "# 4. Data visualization"
   ]
  },
  {
   "cell_type": "code",
   "execution_count": 43,
   "id": "f53f5544",
   "metadata": {},
   "outputs": [
    {
     "data": {
      "image/png": "[encoded data removed]",
      "text/plain": [
       "<Figure size 432x288 with 1 Axes>"
      ]
     },
     "metadata": {},
     "output_type": "display_data"
    }
   ],
   "source": [
    "labels = [\"in-store purchases\", \"online purchases\"]\n",
    "\n",
    "plt.pie([data[data['in-store']==1]['in-store'].count(), data[data['in-store']==0]['in-store'].count()], labels=labels, autopct='%1.0f%%')\n",
    "plt.show()"
   ]
  },
  {
   "cell_type": "code",
   "execution_count": 44,
   "id": "c3dde0ae",
   "metadata": {},
   "outputs": [
    {
     "data": {
      "image/png": "[encoded data removed]",
      "text/plain": [
       "<Figure size 432x288 with 1 Axes>"
      ]
     },
     "metadata": {},
     "output_type": "display_data"
    }
   ],
   "source": [
    "labels = [\"North\", \"South\", \"East\", \"West\"]\n",
    "\n",
    "plt.pie([data[data['region']==1]['region'].count(), data[data['region']==2]['region'].count(), data[data['region']==3]['region'].count(), data[data['region']==4]['region'].count()], labels=labels, autopct='%1.0f%%')\n",
    "plt.show()"
   ]
  },
  {
   "cell_type": "code",
   "execution_count": 40,
   "id": "97ac48fe",
   "metadata": {},
   "outputs": [
    {
     "data": {
      "image/png": "[encoded data removed]",
      "text/plain": [
       "<Figure size 432x288 with 1 Axes>"
      ]
     },
     "metadata": {
      "needs_background": "light"
     },
     "output_type": "display_data"
    }
   ],
   "source": [
    "plt.hist(data['age'])\n",
    "plt.xlabel('age')\n",
    "plt.ylabel('count')\n",
    "plt.show()"
   ]
  },
  {
   "cell_type": "markdown",
   "id": "e5f95e41",
   "metadata": {},
   "source": [
    "Age data histogram is Positively (Right) Skewed. "
   ]
  },
  {
   "cell_type": "code",
   "execution_count": 42,
   "id": "528681b6",
   "metadata": {},
   "outputs": [
    {
     "data": {
      "image/png": "[encoded data removed]",
      "text/plain": [
       "<Figure size 432x288 with 1 Axes>"
      ]
     },
     "metadata": {
      "needs_background": "light"
     },
     "output_type": "display_data"
    }
   ],
   "source": [
    "plt.hist(data['items'])\n",
    "plt.xlabel('items')\n",
    "plt.ylabel('count')\n",
    "plt.show()"
   ]
  },
  {
   "cell_type": "code",
   "execution_count": 45,
   "id": "6182c592",
   "metadata": {},
   "outputs": [
    {
     "data": {
      "image/png": "[encoded data removed]",
      "text/plain": [
       "<Figure size 432x288 with 1 Axes>"
      ]
     },
     "metadata": {
      "needs_background": "light"
     },
     "output_type": "display_data"
    }
   ],
   "source": [
    "plt.hist(data['amount'])\n",
    "plt.xlabel('amount')\n",
    "plt.ylabel('count')\n",
    "plt.show()"
   ]
  },
  {
   "cell_type": "markdown",
   "id": "5dc550ce",
   "metadata": {},
   "source": [
    "## Do customers in different regions spend more per transaction? Which regions spend the most/least?"
   ]
  },
  {
   "cell_type": "code",
   "execution_count": 51,
   "id": "0a2516eb",
   "metadata": {},
   "outputs": [
    {
     "data": {
      "image/png": "[encoded data removed]",
      "text/plain": [
       "<Figure size 432x288 with 1 Axes>"
      ]
     },
     "metadata": {
      "needs_background": "light"
     },
     "output_type": "display_data"
    }
   ],
   "source": [
    "plt.bar(labels,data['amount'].groupby(data['region']).sum())\n",
    "plt.show()"
   ]
  },
  {
   "cell_type": "markdown",
   "id": "836e252c",
   "metadata": {},
   "source": [
    "## Is there a relationship between the number of items purchased and amount spent?"
   ]
  },
  {
   "cell_type": "code",
   "execution_count": 55,
   "id": "9343868f",
   "metadata": {},
   "outputs": [
    {
     "data": {
      "text/html": [
       "<div>\n",
       "<style scoped>\n",
       "    .dataframe tbody tr th:only-of-type {\n",
       "        vertical-align: middle;\n",
       "    }\n",
       "\n",
       "    .dataframe tbody tr th {\n",
       "        vertical-align: top;\n",
       "    }\n",
       "\n",
       "    .dataframe thead th {\n",
       "        text-align: right;\n",
       "    }\n",
       "</style>\n",
       "<table border=\"1\" class=\"dataframe\">\n",
       "  <thead>\n",
       "    <tr style=\"text-align: right;\">\n",
       "      <th></th>\n",
       "      <th>in-store</th>\n",
       "      <th>age</th>\n",
       "      <th>items</th>\n",
       "      <th>amount</th>\n",
       "      <th>region</th>\n",
       "    </tr>\n",
       "  </thead>\n",
       "  <tbody>\n",
       "    <tr>\n",
       "      <th>in-store</th>\n",
       "      <td>1.000000</td>\n",
       "      <td>-0.178180</td>\n",
       "      <td>-0.003897</td>\n",
       "      <td>-0.085573</td>\n",
       "      <td>-0.133171</td>\n",
       "    </tr>\n",
       "    <tr>\n",
       "      <th>age</th>\n",
       "      <td>-0.178180</td>\n",
       "      <td>1.000000</td>\n",
       "      <td>0.000657</td>\n",
       "      <td>-0.282033</td>\n",
       "      <td>-0.235370</td>\n",
       "    </tr>\n",
       "    <tr>\n",
       "      <th>items</th>\n",
       "      <td>-0.003897</td>\n",
       "      <td>0.000657</td>\n",
       "      <td>1.000000</td>\n",
       "      <td>0.000384</td>\n",
       "      <td>-0.001904</td>\n",
       "    </tr>\n",
       "    <tr>\n",
       "      <th>amount</th>\n",
       "      <td>-0.085573</td>\n",
       "      <td>-0.282033</td>\n",
       "      <td>0.000384</td>\n",
       "      <td>1.000000</td>\n",
       "      <td>0.403486</td>\n",
       "    </tr>\n",
       "    <tr>\n",
       "      <th>region</th>\n",
       "      <td>-0.133171</td>\n",
       "      <td>-0.235370</td>\n",
       "      <td>-0.001904</td>\n",
       "      <td>0.403486</td>\n",
       "      <td>1.000000</td>\n",
       "    </tr>\n",
       "  </tbody>\n",
       "</table>\n",
       "</div>"
      ],
      "text/plain": [
       "          in-store       age     items    amount    region\n",
       "in-store  1.000000 -0.178180 -0.003897 -0.085573 -0.133171\n",
       "age      -0.178180  1.000000  0.000657 -0.282033 -0.235370\n",
       "items    -0.003897  0.000657  1.000000  0.000384 -0.001904\n",
       "amount   -0.085573 -0.282033  0.000384  1.000000  0.403486\n",
       "region   -0.133171 -0.235370 -0.001904  0.403486  1.000000"
      ]
     },
     "execution_count": 55,
     "metadata": {},
     "output_type": "execute_result"
    }
   ],
   "source": [
    "data.corr()"
   ]
  },
  {
   "cell_type": "code",
   "execution_count": 66,
   "id": "57ad1025",
   "metadata": {},
   "outputs": [
    {
     "ename": "SyntaxError",
     "evalue": "invalid syntax (<ipython-input-66-4bea9d24d781>, line 2)",
     "output_type": "error",
     "traceback": [
      "\u001b[1;36m  File \u001b[1;32m\"<ipython-input-66-4bea9d24d781>\"\u001b[1;36m, line \u001b[1;32m2\u001b[0m\n\u001b[1;33m    labels=[10, 20, 30, 50, 90])), data['amount'])\u001b[0m\n\u001b[1;37m                                                 ^\u001b[0m\n\u001b[1;31mSyntaxError\u001b[0m\u001b[1;31m:\u001b[0m invalid syntax\n"
     ]
    }
   ],
   "source": [
    "plt.bar(pd.qcut(data['age'],  q=[0, .2, .4, .6, .8, 1],\n",
    "                              labels=[10, 20, 30, 50, 90])), data['amount'])"
   ]
  },
  {
   "cell_type": "code",
   "execution_count": 79,
   "id": "20288192",
   "metadata": {},
   "outputs": [
    {
     "data": {
      "text/plain": [
       "[<matplotlib.lines.Line2D at 0x1cc05421908>]"
      ]
     },
     "execution_count": 79,
     "metadata": {},
     "output_type": "execute_result"
    },
    {
     "data": {
      "image/png": "[encoded data removed]",
      "text/plain": [
       "<Figure size 432x288 with 1 Axes>"
      ]
     },
     "metadata": {
      "needs_background": "light"
     },
     "output_type": "display_data"
    }
   ],
   "source": [
    "plt.plot(data['age'], data['amount'])"
   ]
  },
  {
   "cell_type": "code",
   "execution_count": 81,
   "id": "2d96e533",
   "metadata": {},
   "outputs": [
    {
     "ename": "TypeError",
     "evalue": "bar() missing 1 required positional argument: 'height'",
     "output_type": "error",
     "traceback": [
      "\u001b[1;31m---------------------------------------------------------------------------\u001b[0m",
      "\u001b[1;31mTypeError\u001b[0m                                 Traceback (most recent call last)",
      "\u001b[1;32m<ipython-input-81-ef4106e96f30>\u001b[0m in \u001b[0;36m<module>\u001b[1;34m\u001b[0m\n\u001b[1;32m----> 1\u001b[1;33m \u001b[0mplt\u001b[0m\u001b[1;33m.\u001b[0m\u001b[0mbar\u001b[0m\u001b[1;33m(\u001b[0m\u001b[0mdata\u001b[0m\u001b[1;33m[\u001b[0m\u001b[1;34m'amount'\u001b[0m\u001b[1;33m]\u001b[0m\u001b[1;33m.\u001b[0m\u001b[0mgroupby\u001b[0m\u001b[1;33m(\u001b[0m\u001b[0mdata\u001b[0m\u001b[1;33m[\u001b[0m\u001b[1;34m'age'\u001b[0m\u001b[1;33m]\u001b[0m\u001b[1;33m)\u001b[0m\u001b[1;33m.\u001b[0m\u001b[0msum\u001b[0m\u001b[1;33m(\u001b[0m\u001b[1;33m)\u001b[0m\u001b[1;33m)\u001b[0m\u001b[1;33m\u001b[0m\u001b[1;33m\u001b[0m\u001b[0m\n\u001b[0m",
      "\u001b[1;31mTypeError\u001b[0m: bar() missing 1 required positional argument: 'height'"
     ]
    }
   ],
   "source": [
    "plt.bar(labels=data['amount'].groupby(data['age']).sum())"
   ]
  },
  {
   "cell_type": "code",
   "execution_count": 83,
   "id": "ebdb27ce",
   "metadata": {},
   "outputs": [
    {
     "data": {
      "text/plain": [
       "array([37, 35, 45, 46, 33, 24, 43, 66, 51, 47, 44, 32, 48, 34, 20, 58, 49,\n",
       "       55, 31, 53, 21, 42, 40, 28, 59, 41, 74, 19, 54, 57, 30, 27, 38, 26,\n",
       "       36, 22, 39, 69, 81, 65, 61, 62, 78, 29, 67, 80, 73, 25, 52, 50, 70,\n",
       "       56, 60, 64, 71, 63, 84, 72, 83, 79, 18, 23, 68, 75, 85, 76, 77, 82],\n",
       "      dtype=int64)"
      ]
     },
     "execution_count": 83,
     "metadata": {},
     "output_type": "execute_result"
    }
   ],
   "source": [
    "data['age'].unique()"
   ]
  },
  {
   "cell_type": "code",
   "execution_count": 87,
   "id": "867c6fb5",
   "metadata": {},
   "outputs": [
    {
     "data": {
      "text/plain": [
       "(34.75, 43.125]     15742\n",
       "(43.125, 51.5]      13973\n",
       "(26.375, 34.75]     13587\n",
       "(51.5, 59.875]      11568\n",
       "(17.933, 26.375]     8859\n",
       "(59.875, 68.25]      8278\n",
       "(68.25, 76.625]      4882\n",
       "(76.625, 85.0]       3090\n",
       "Name: age, dtype: int64"
      ]
     },
     "execution_count": 87,
     "metadata": {},
     "output_type": "execute_result"
    }
   ],
   "source": [
    "pd.cut(data['age'], b.value_counts()"
   ]
  },
  {
   "cell_type": "code",
   "execution_count": 101,
   "id": "358f3a3f",
   "metadata": {},
   "outputs": [],
   "source": [
    "data['age_round'] = (data['age']/10).round()*10"
   ]
  },
  {
   "cell_type": "code",
   "execution_count": 112,
   "id": "847d3393",
   "metadata": {},
   "outputs": [
    {
     "data": {
      "text/plain": [
       "(array([ 7505., 14941., 19231., 15833., 12268.,  6450.,  3751.]),\n",
       " array([20.        , 28.57142857, 37.14285714, 45.71428571, 54.28571429,\n",
       "        62.85714286, 71.42857143, 80.        ]),\n",
       " <BarContainer object of 7 artists>)"
      ]
     },
     "execution_count": 112,
     "metadata": {},
     "output_type": "execute_result"
    },
    {
     "data": {
      "image/png": "[encoded data removed]",
      "text/plain": [
       "<Figure size 432x288 with 1 Axes>"
      ]
     },
     "metadata": {
      "needs_background": "light"
     },
     "output_type": "display_data"
    }
   ],
   "source": [
    "plt.hist(data['age_round'], bins=7, width=1)"
   ]
  },
  {
   "cell_type": "code",
   "execution_count": 103,
   "id": "680fdec0",
   "metadata": {},
   "outputs": [
    {
     "data": {
      "text/plain": [
       "40.0    19231\n",
       "50.0    15833\n",
       "30.0    14941\n",
       "60.0    12268\n",
       "20.0     7505\n",
       "70.0     6450\n",
       "80.0     3751\n",
       "Name: age_round, dtype: int64"
      ]
     },
     "execution_count": 103,
     "metadata": {},
     "output_type": "execute_result"
    }
   ],
   "source": [
    "data['age_round'].value_counts()"
   ]
  },
  {
   "cell_type": "code",
   "execution_count": 121,
   "id": "7fdc6203",
   "metadata": {},
   "outputs": [
    {
     "data": {
      "text/plain": [
       "<BarContainer object of 7 artists>"
      ]
     },
     "execution_count": 121,
     "metadata": {},
     "output_type": "execute_result"
    },
    {
     "data": {
      "image/png": "[encoded data removed]",
      "text/plain": [
       "<Figure size 432x288 with 1 Axes>"
      ]
     },
     "metadata": {
      "needs_background": "light"
     },
     "output_type": "display_data"
    }
   ],
   "source": [
    "plt.bar(data['amount'].groupby(data['age_round']).sum().index, data['amount'].groupby(data['age_round']).sum().values)"
   ]
  },
  {
   "cell_type": "markdown",
   "id": "170585e8",
   "metadata": {},
   "source": [
    "## Checking dependency between amount and items purchased online and in-store"
   ]
  },
  {
   "cell_type": "code",
   "execution_count": 131,
   "id": "95a4d6de",
   "metadata": {},
   "outputs": [
    {
     "data": {
      "text/plain": [
       "<BarContainer object of 2 artists>"
      ]
     },
     "execution_count": 131,
     "metadata": {},
     "output_type": "execute_result"
    },
    {
     "data": {
      "image/png": "[encoded data removed]",
      "text/plain": [
       "<Figure size 432x288 with 1 Axes>"
      ]
     },
     "metadata": {
      "needs_background": "light"
     },
     "output_type": "display_data"
    }
   ],
   "source": [
    "plt.bar(['online', 'in store'],data['items'].groupby(data['in-store']).sum())"
   ]
  },
  {
   "cell_type": "code",
   "execution_count": 136,
   "id": "c7760d36",
   "metadata": {},
   "outputs": [
    {
     "data": {
      "text/plain": [
       "<BarContainer object of 2 artists>"
      ]
     },
     "execution_count": 136,
     "metadata": {},
     "output_type": "execute_result"
    },
    {
     "data": {
      "image/png": "[encoded data removed]",
      "text/plain": [
       "<Figure size 432x288 with 1 Axes>"
      ]
     },
     "metadata": {
      "needs_background": "light"
     },
     "output_type": "display_data"
    }
   ],
   "source": [
    "plt.bar(['online', 'in_store'],data['amount'].groupby(data['in-store']).sum())"
   ]
  },
  {
   "cell_type": "code",
   "execution_count": 135,
   "id": "c3023062",
   "metadata": {},
   "outputs": [
    {
     "data": {
      "text/plain": [
       "<BarContainer object of 2 artists>"
      ]
     },
     "execution_count": 135,
     "metadata": {},
     "output_type": "execute_result"
    },
    {
     "data": {
      "image/png": "[encoded data removed]",
      "text/plain": [
       "<Figure size 432x288 with 1 Axes>"
      ]
     },
     "metadata": {
      "needs_background": "light"
     },
     "output_type": "display_data"
    }
   ],
   "source": [
    "plt.bar(['online', 'in-store'],(data['amount']/data['items']).groupby(data['in-store']).sum())"
   ]
  },
  {
   "cell_type": "markdown",
   "id": "ae35f322",
   "metadata": {},
   "source": [
    "### Total number of items purchased online is same as total number of items purchased online, but customers spend more money during online shoping, because they choose more expensive products than in in-store shopping."
   ]
  },
  {
   "cell_type": "code",
   "execution_count": null,
   "id": "3c5c806f",
   "metadata": {},
   "outputs": [],
   "source": []
  }
 ],
 "metadata": {
  "kernelspec": {
   "display_name": "Python 3",
   "language": "python",
   "name": "python3"
  },
  "language_info": {
   "codemirror_mode": {
    "name": "ipython",
    "version": 3
   },
   "file_extension": ".py",
   "mimetype": "text/x-python",
   "name": "python",
   "nbconvert_exporter": "python",
   "pygments_lexer": "ipython3",
   "version": "3.7.10"
  }
 },
 "nbformat": 4,
 "nbformat_minor": 5
}
